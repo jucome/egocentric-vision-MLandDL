{
  "nbformat": 4,
  "nbformat_minor": 0,
  "metadata": {
    "colab": {
      "provenance": []
    },
    "kernelspec": {
      "name": "python3",
      "display_name": "Python 3"
    },
    "language_info": {
      "name": "python"
    }
  },
  "cells": [
    {
      "cell_type": "code",
      "execution_count": null,
      "metadata": {
        "id": "lhxnA9MA0yY9"
      },
      "outputs": [],
      "source": [
        "import json\n",
        "import numpy as np"
      ]
    },
    {
      "cell_type": "code",
      "source": [
        "path = '/content/drive/MyDrive/Colab_Notebooks/POLITO/Primer_anno/Machine_learning_and_deep_learning/Project/Test_models/vslnet_9_3230_preds.json'\n",
        "with open(path) as f:\n",
        "    data = json.load(f)"
      ],
      "metadata": {
        "id": "AWsiDdUv1kSv"
      },
      "execution_count": null,
      "outputs": []
    },
    {
      "cell_type": "code",
      "source": [
        "size=200\n",
        "n = 3\n",
        "samples_nlq = [list(np.random.choice(data['results'], size=size)) for i in range(n)]"
      ],
      "metadata": {
        "id": "rPmi8Hai3L2d"
      },
      "execution_count": null,
      "outputs": []
    },
    {
      "cell_type": "code",
      "source": [
        "with open('aleja_sample_'+ str(size) +'_nlq.json', 'w') as aleja_sample_nlq, open('mateo_sample_'+ str(size) +'_nlq.json', 'w') as mateo_sample_nlq, open('juli_sample_2'+ str(size) +'_nlq.json', 'w') as juli_sample_nlq:\n",
        "    json.dump(samples_nlq[0], aleja_sample_nlq)\n",
        "    json.dump(samples_nlq[1], mateo_sample_nlq)\n",
        "    json.dump(samples_nlq[2], juli_sample_nlq)"
      ],
      "metadata": {
        "id": "-ND-GSEn5Sl4"
      },
      "execution_count": null,
      "outputs": []
    },
    {
      "cell_type": "code",
      "source": [],
      "metadata": {
        "id": "HgjEbcR16wk-"
      },
      "execution_count": null,
      "outputs": []
    }
  ]
}